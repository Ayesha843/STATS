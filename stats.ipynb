{
 "cells": [
  {
   "cell_type": "code",
   "execution_count": 11,
   "id": "913d8d47",
   "metadata": {},
   "outputs": [],
   "source": [
    "import pandas as pd\n",
    "import numpy as np\n",
    "\n"
   ]
  },
  {
   "cell_type": "code",
   "execution_count": 3,
   "id": "5d71f1a8",
   "metadata": {},
   "outputs": [
    {
     "data": {
      "text/plain": [
       "18250.0"
      ]
     },
     "execution_count": 3,
     "metadata": {},
     "output_type": "execute_result"
    }
   ],
   "source": [
    "np.mean(salary)"
   ]
  },
  {
   "cell_type": "markdown",
   "id": "1f379aec",
   "metadata": {},
   "source": [
    "-In a medical study,what is the average and median age of pateins with a specific medical condition?\n",
    "pateint_age=[32,45,29,52,34,56,41,48,39,60,28,55]\n"
   ]
  },
  {
   "cell_type": "code",
   "execution_count": 5,
   "id": "bc6e7cdf",
   "metadata": {},
   "outputs": [],
   "source": [
    "patient_age=[32,45,29,52,34,56,41,48,39,60,28,55]"
   ]
  },
  {
   "cell_type": "code",
   "execution_count": 6,
   "id": "568c1568",
   "metadata": {},
   "outputs": [
    {
     "data": {
      "text/plain": [
       "43.25"
      ]
     },
     "execution_count": 6,
     "metadata": {},
     "output_type": "execute_result"
    }
   ],
   "source": [
    "np.mean(patient_age)"
   ]
  },
  {
   "cell_type": "code",
   "execution_count": 7,
   "id": "7e941f23",
   "metadata": {},
   "outputs": [
    {
     "data": {
      "text/plain": [
       "43.0"
      ]
     },
     "execution_count": 7,
     "metadata": {},
     "output_type": "execute_result"
    }
   ],
   "source": [
    "np.median(patient_age)"
   ]
  },
  {
   "cell_type": "markdown",
   "id": "f3a4715b",
   "metadata": {},
   "source": [
    "-what is the average and median anual return on investment for a portfolio of diverse stocks ?\n",
    "returns=[0.12,0.09,-0.05,0.15,0.18,-0.02,0.10,0.07,0.14,-0.08]"
   ]
  },
  {
   "cell_type": "code",
   "execution_count": 8,
   "id": "23624218",
   "metadata": {},
   "outputs": [],
   "source": [
    "returns=[0.12,0.09,-0.05,0.15,0.18,-0.02,0.10,0.07,0.14,-0.08]"
   ]
  },
  {
   "cell_type": "code",
   "execution_count": 9,
   "id": "2a3ffafb",
   "metadata": {},
   "outputs": [
    {
     "data": {
      "text/plain": [
       "0.07"
      ]
     },
     "execution_count": 9,
     "metadata": {},
     "output_type": "execute_result"
    }
   ],
   "source": [
    "np.mean(returns)"
   ]
  },
  {
   "cell_type": "code",
   "execution_count": 10,
   "id": "2376f97e",
   "metadata": {},
   "outputs": [
    {
     "data": {
      "text/plain": [
       "0.095"
      ]
     },
     "execution_count": 10,
     "metadata": {},
     "output_type": "execute_result"
    }
   ],
   "source": [
    "np.median(returns)"
   ]
  },
  {
   "cell_type": "markdown",
   "id": "1aea747b",
   "metadata": {},
   "source": [
    "-In a genomic study.what is the averge and median expression level of a speaker gene across differnt sample?\n",
    "gene_expression=[2.5,3.0,2.2,3.5,2.8,3.2,2.9,3.1,2.7,3.3]"
   ]
  },
  {
   "cell_type": "code",
   "execution_count": 11,
   "id": "5cd982e4",
   "metadata": {},
   "outputs": [],
   "source": [
    "gene_expression=[2.5,3.0,2.2,3.5,2.8,3.2,2.9,3.1,2.7,3.3]"
   ]
  },
  {
   "cell_type": "code",
   "execution_count": 12,
   "id": "cdc0792d",
   "metadata": {},
   "outputs": [
    {
     "data": {
      "text/plain": [
       "2.92"
      ]
     },
     "execution_count": 12,
     "metadata": {},
     "output_type": "execute_result"
    }
   ],
   "source": [
    "np.mean(gene_expression)"
   ]
  },
  {
   "cell_type": "code",
   "execution_count": 13,
   "id": "c654b9b5",
   "metadata": {},
   "outputs": [
    {
     "data": {
      "text/plain": [
       "2.95"
      ]
     },
     "execution_count": 13,
     "metadata": {},
     "output_type": "execute_result"
    }
   ],
   "source": [
    "np.median(gene_expression)"
   ]
  },
  {
   "cell_type": "code",
   "execution_count": null,
   "id": "4fab03a0",
   "metadata": {},
   "outputs": [],
   "source": [
    "[2.5,3.0,2.2,3.5,2.8,3.2,2.9,3.1,2.7,3.3]"
   ]
  },
  {
   "cell_type": "code",
   "execution_count": 7,
   "id": "1c789082",
   "metadata": {},
   "outputs": [],
   "source": [
    "df=pd.read_csv('D:\\housing1.csv')"
   ]
  },
  {
   "cell_type": "code",
   "execution_count": 8,
   "id": "5403fbee",
   "metadata": {},
   "outputs": [
    {
     "data": {
      "text/html": [
       "<div>\n",
       "<style scoped>\n",
       "    .dataframe tbody tr th:only-of-type {\n",
       "        vertical-align: middle;\n",
       "    }\n",
       "\n",
       "    .dataframe tbody tr th {\n",
       "        vertical-align: top;\n",
       "    }\n",
       "\n",
       "    .dataframe thead th {\n",
       "        text-align: right;\n",
       "    }\n",
       "</style>\n",
       "<table border=\"1\" class=\"dataframe\">\n",
       "  <thead>\n",
       "    <tr style=\"text-align: right;\">\n",
       "      <th></th>\n",
       "      <th>longitude</th>\n",
       "      <th>latitude</th>\n",
       "      <th>housing_median_age</th>\n",
       "      <th>total_rooms</th>\n",
       "      <th>total_bedrooms</th>\n",
       "      <th>population</th>\n",
       "      <th>households</th>\n",
       "      <th>median_income</th>\n",
       "      <th>median_house_value</th>\n",
       "      <th>ocean_proximity</th>\n",
       "    </tr>\n",
       "  </thead>\n",
       "  <tbody>\n",
       "    <tr>\n",
       "      <th>0</th>\n",
       "      <td>-122.23</td>\n",
       "      <td>37.88</td>\n",
       "      <td>41.0</td>\n",
       "      <td>880.0</td>\n",
       "      <td>129.0</td>\n",
       "      <td>322.0</td>\n",
       "      <td>126.0</td>\n",
       "      <td>8.3252</td>\n",
       "      <td>452600.0</td>\n",
       "      <td>NEAR BAY</td>\n",
       "    </tr>\n",
       "    <tr>\n",
       "      <th>1</th>\n",
       "      <td>-122.22</td>\n",
       "      <td>37.86</td>\n",
       "      <td>21.0</td>\n",
       "      <td>7099.0</td>\n",
       "      <td>1106.0</td>\n",
       "      <td>2401.0</td>\n",
       "      <td>1138.0</td>\n",
       "      <td>8.3014</td>\n",
       "      <td>358500.0</td>\n",
       "      <td>NEAR BAY</td>\n",
       "    </tr>\n",
       "    <tr>\n",
       "      <th>2</th>\n",
       "      <td>-122.24</td>\n",
       "      <td>37.85</td>\n",
       "      <td>52.0</td>\n",
       "      <td>1467.0</td>\n",
       "      <td>190.0</td>\n",
       "      <td>496.0</td>\n",
       "      <td>177.0</td>\n",
       "      <td>7.2574</td>\n",
       "      <td>352100.0</td>\n",
       "      <td>NEAR BAY</td>\n",
       "    </tr>\n",
       "    <tr>\n",
       "      <th>3</th>\n",
       "      <td>-122.25</td>\n",
       "      <td>37.85</td>\n",
       "      <td>52.0</td>\n",
       "      <td>1274.0</td>\n",
       "      <td>235.0</td>\n",
       "      <td>558.0</td>\n",
       "      <td>219.0</td>\n",
       "      <td>5.6431</td>\n",
       "      <td>341300.0</td>\n",
       "      <td>NEAR BAY</td>\n",
       "    </tr>\n",
       "    <tr>\n",
       "      <th>4</th>\n",
       "      <td>-122.25</td>\n",
       "      <td>37.85</td>\n",
       "      <td>52.0</td>\n",
       "      <td>1627.0</td>\n",
       "      <td>280.0</td>\n",
       "      <td>565.0</td>\n",
       "      <td>259.0</td>\n",
       "      <td>3.8462</td>\n",
       "      <td>342200.0</td>\n",
       "      <td>NEAR BAY</td>\n",
       "    </tr>\n",
       "    <tr>\n",
       "      <th>...</th>\n",
       "      <td>...</td>\n",
       "      <td>...</td>\n",
       "      <td>...</td>\n",
       "      <td>...</td>\n",
       "      <td>...</td>\n",
       "      <td>...</td>\n",
       "      <td>...</td>\n",
       "      <td>...</td>\n",
       "      <td>...</td>\n",
       "      <td>...</td>\n",
       "    </tr>\n",
       "    <tr>\n",
       "      <th>20635</th>\n",
       "      <td>-121.09</td>\n",
       "      <td>39.48</td>\n",
       "      <td>25.0</td>\n",
       "      <td>1665.0</td>\n",
       "      <td>374.0</td>\n",
       "      <td>845.0</td>\n",
       "      <td>330.0</td>\n",
       "      <td>1.5603</td>\n",
       "      <td>78100.0</td>\n",
       "      <td>INLAND</td>\n",
       "    </tr>\n",
       "    <tr>\n",
       "      <th>20636</th>\n",
       "      <td>-121.21</td>\n",
       "      <td>39.49</td>\n",
       "      <td>18.0</td>\n",
       "      <td>697.0</td>\n",
       "      <td>150.0</td>\n",
       "      <td>356.0</td>\n",
       "      <td>114.0</td>\n",
       "      <td>2.5568</td>\n",
       "      <td>77100.0</td>\n",
       "      <td>INLAND</td>\n",
       "    </tr>\n",
       "    <tr>\n",
       "      <th>20637</th>\n",
       "      <td>-121.22</td>\n",
       "      <td>39.43</td>\n",
       "      <td>17.0</td>\n",
       "      <td>2254.0</td>\n",
       "      <td>485.0</td>\n",
       "      <td>1007.0</td>\n",
       "      <td>433.0</td>\n",
       "      <td>1.7000</td>\n",
       "      <td>92300.0</td>\n",
       "      <td>INLAND</td>\n",
       "    </tr>\n",
       "    <tr>\n",
       "      <th>20638</th>\n",
       "      <td>-121.32</td>\n",
       "      <td>39.43</td>\n",
       "      <td>18.0</td>\n",
       "      <td>1860.0</td>\n",
       "      <td>409.0</td>\n",
       "      <td>741.0</td>\n",
       "      <td>349.0</td>\n",
       "      <td>1.8672</td>\n",
       "      <td>84700.0</td>\n",
       "      <td>INLAND</td>\n",
       "    </tr>\n",
       "    <tr>\n",
       "      <th>20639</th>\n",
       "      <td>-121.24</td>\n",
       "      <td>39.37</td>\n",
       "      <td>16.0</td>\n",
       "      <td>2785.0</td>\n",
       "      <td>616.0</td>\n",
       "      <td>1387.0</td>\n",
       "      <td>530.0</td>\n",
       "      <td>2.3886</td>\n",
       "      <td>89400.0</td>\n",
       "      <td>INLAND</td>\n",
       "    </tr>\n",
       "  </tbody>\n",
       "</table>\n",
       "<p>20640 rows × 10 columns</p>\n",
       "</div>"
      ],
      "text/plain": [
       "       longitude  latitude  housing_median_age  total_rooms  total_bedrooms  \\\n",
       "0        -122.23     37.88                41.0        880.0           129.0   \n",
       "1        -122.22     37.86                21.0       7099.0          1106.0   \n",
       "2        -122.24     37.85                52.0       1467.0           190.0   \n",
       "3        -122.25     37.85                52.0       1274.0           235.0   \n",
       "4        -122.25     37.85                52.0       1627.0           280.0   \n",
       "...          ...       ...                 ...          ...             ...   \n",
       "20635    -121.09     39.48                25.0       1665.0           374.0   \n",
       "20636    -121.21     39.49                18.0        697.0           150.0   \n",
       "20637    -121.22     39.43                17.0       2254.0           485.0   \n",
       "20638    -121.32     39.43                18.0       1860.0           409.0   \n",
       "20639    -121.24     39.37                16.0       2785.0           616.0   \n",
       "\n",
       "       population  households  median_income  median_house_value  \\\n",
       "0           322.0       126.0         8.3252            452600.0   \n",
       "1          2401.0      1138.0         8.3014            358500.0   \n",
       "2           496.0       177.0         7.2574            352100.0   \n",
       "3           558.0       219.0         5.6431            341300.0   \n",
       "4           565.0       259.0         3.8462            342200.0   \n",
       "...           ...         ...            ...                 ...   \n",
       "20635       845.0       330.0         1.5603             78100.0   \n",
       "20636       356.0       114.0         2.5568             77100.0   \n",
       "20637      1007.0       433.0         1.7000             92300.0   \n",
       "20638       741.0       349.0         1.8672             84700.0   \n",
       "20639      1387.0       530.0         2.3886             89400.0   \n",
       "\n",
       "      ocean_proximity  \n",
       "0            NEAR BAY  \n",
       "1            NEAR BAY  \n",
       "2            NEAR BAY  \n",
       "3            NEAR BAY  \n",
       "4            NEAR BAY  \n",
       "...               ...  \n",
       "20635          INLAND  \n",
       "20636          INLAND  \n",
       "20637          INLAND  \n",
       "20638          INLAND  \n",
       "20639          INLAND  \n",
       "\n",
       "[20640 rows x 10 columns]"
      ]
     },
     "execution_count": 8,
     "metadata": {},
     "output_type": "execute_result"
    }
   ],
   "source": [
    "df\n"
   ]
  },
  {
   "cell_type": "code",
   "execution_count": 13,
   "id": "851a232e",
   "metadata": {},
   "outputs": [
    {
     "name": "stdout",
     "output_type": "stream",
     "text": [
      "<class 'pandas.core.frame.DataFrame'>\n",
      "RangeIndex: 20640 entries, 0 to 20639\n",
      "Data columns (total 10 columns):\n",
      " #   Column              Non-Null Count  Dtype  \n",
      "---  ------              --------------  -----  \n",
      " 0   longitude           20640 non-null  float64\n",
      " 1   latitude            20640 non-null  float64\n",
      " 2   housing_median_age  20640 non-null  float64\n",
      " 3   total_rooms         20640 non-null  float64\n",
      " 4   total_bedrooms      20433 non-null  float64\n",
      " 5   population          20640 non-null  float64\n",
      " 6   households          20640 non-null  float64\n",
      " 7   median_income       20640 non-null  float64\n",
      " 8   median_house_value  20640 non-null  float64\n",
      " 9   ocean_proximity     20640 non-null  object \n",
      "dtypes: float64(9), object(1)\n",
      "memory usage: 1.6+ MB\n"
     ]
    }
   ],
   "source": [
    "df.info()"
   ]
  },
  {
   "cell_type": "code",
   "execution_count": 12,
   "id": "366fbb41",
   "metadata": {},
   "outputs": [
    {
     "data": {
      "text/html": [
       "<div>\n",
       "<style scoped>\n",
       "    .dataframe tbody tr th:only-of-type {\n",
       "        vertical-align: middle;\n",
       "    }\n",
       "\n",
       "    .dataframe tbody tr th {\n",
       "        vertical-align: top;\n",
       "    }\n",
       "\n",
       "    .dataframe thead th {\n",
       "        text-align: right;\n",
       "    }\n",
       "</style>\n",
       "<table border=\"1\" class=\"dataframe\">\n",
       "  <thead>\n",
       "    <tr style=\"text-align: right;\">\n",
       "      <th></th>\n",
       "      <th>longitude</th>\n",
       "      <th>latitude</th>\n",
       "      <th>housing_median_age</th>\n",
       "      <th>total_rooms</th>\n",
       "      <th>total_bedrooms</th>\n",
       "      <th>population</th>\n",
       "      <th>households</th>\n",
       "      <th>median_income</th>\n",
       "      <th>median_house_value</th>\n",
       "    </tr>\n",
       "  </thead>\n",
       "  <tbody>\n",
       "    <tr>\n",
       "      <th>count</th>\n",
       "      <td>20640.000000</td>\n",
       "      <td>20640.000000</td>\n",
       "      <td>20640.000000</td>\n",
       "      <td>20640.000000</td>\n",
       "      <td>20433.000000</td>\n",
       "      <td>20640.000000</td>\n",
       "      <td>20640.000000</td>\n",
       "      <td>20640.000000</td>\n",
       "      <td>20640.000000</td>\n",
       "    </tr>\n",
       "    <tr>\n",
       "      <th>mean</th>\n",
       "      <td>-119.569704</td>\n",
       "      <td>35.631861</td>\n",
       "      <td>28.639486</td>\n",
       "      <td>2635.763081</td>\n",
       "      <td>537.870553</td>\n",
       "      <td>1425.476744</td>\n",
       "      <td>499.539680</td>\n",
       "      <td>3.870671</td>\n",
       "      <td>206855.816909</td>\n",
       "    </tr>\n",
       "    <tr>\n",
       "      <th>std</th>\n",
       "      <td>2.003532</td>\n",
       "      <td>2.135952</td>\n",
       "      <td>12.585558</td>\n",
       "      <td>2181.615252</td>\n",
       "      <td>421.385070</td>\n",
       "      <td>1132.462122</td>\n",
       "      <td>382.329753</td>\n",
       "      <td>1.899822</td>\n",
       "      <td>115395.615874</td>\n",
       "    </tr>\n",
       "    <tr>\n",
       "      <th>min</th>\n",
       "      <td>-124.350000</td>\n",
       "      <td>32.540000</td>\n",
       "      <td>1.000000</td>\n",
       "      <td>2.000000</td>\n",
       "      <td>1.000000</td>\n",
       "      <td>3.000000</td>\n",
       "      <td>1.000000</td>\n",
       "      <td>0.499900</td>\n",
       "      <td>14999.000000</td>\n",
       "    </tr>\n",
       "    <tr>\n",
       "      <th>25%</th>\n",
       "      <td>-121.800000</td>\n",
       "      <td>33.930000</td>\n",
       "      <td>18.000000</td>\n",
       "      <td>1447.750000</td>\n",
       "      <td>296.000000</td>\n",
       "      <td>787.000000</td>\n",
       "      <td>280.000000</td>\n",
       "      <td>2.563400</td>\n",
       "      <td>119600.000000</td>\n",
       "    </tr>\n",
       "    <tr>\n",
       "      <th>50%</th>\n",
       "      <td>-118.490000</td>\n",
       "      <td>34.260000</td>\n",
       "      <td>29.000000</td>\n",
       "      <td>2127.000000</td>\n",
       "      <td>435.000000</td>\n",
       "      <td>1166.000000</td>\n",
       "      <td>409.000000</td>\n",
       "      <td>3.534800</td>\n",
       "      <td>179700.000000</td>\n",
       "    </tr>\n",
       "    <tr>\n",
       "      <th>75%</th>\n",
       "      <td>-118.010000</td>\n",
       "      <td>37.710000</td>\n",
       "      <td>37.000000</td>\n",
       "      <td>3148.000000</td>\n",
       "      <td>647.000000</td>\n",
       "      <td>1725.000000</td>\n",
       "      <td>605.000000</td>\n",
       "      <td>4.743250</td>\n",
       "      <td>264725.000000</td>\n",
       "    </tr>\n",
       "    <tr>\n",
       "      <th>max</th>\n",
       "      <td>-114.310000</td>\n",
       "      <td>41.950000</td>\n",
       "      <td>52.000000</td>\n",
       "      <td>39320.000000</td>\n",
       "      <td>6445.000000</td>\n",
       "      <td>35682.000000</td>\n",
       "      <td>6082.000000</td>\n",
       "      <td>15.000100</td>\n",
       "      <td>500001.000000</td>\n",
       "    </tr>\n",
       "  </tbody>\n",
       "</table>\n",
       "</div>"
      ],
      "text/plain": [
       "          longitude      latitude  housing_median_age   total_rooms  \\\n",
       "count  20640.000000  20640.000000        20640.000000  20640.000000   \n",
       "mean    -119.569704     35.631861           28.639486   2635.763081   \n",
       "std        2.003532      2.135952           12.585558   2181.615252   \n",
       "min     -124.350000     32.540000            1.000000      2.000000   \n",
       "25%     -121.800000     33.930000           18.000000   1447.750000   \n",
       "50%     -118.490000     34.260000           29.000000   2127.000000   \n",
       "75%     -118.010000     37.710000           37.000000   3148.000000   \n",
       "max     -114.310000     41.950000           52.000000  39320.000000   \n",
       "\n",
       "       total_bedrooms    population    households  median_income  \\\n",
       "count    20433.000000  20640.000000  20640.000000   20640.000000   \n",
       "mean       537.870553   1425.476744    499.539680       3.870671   \n",
       "std        421.385070   1132.462122    382.329753       1.899822   \n",
       "min          1.000000      3.000000      1.000000       0.499900   \n",
       "25%        296.000000    787.000000    280.000000       2.563400   \n",
       "50%        435.000000   1166.000000    409.000000       3.534800   \n",
       "75%        647.000000   1725.000000    605.000000       4.743250   \n",
       "max       6445.000000  35682.000000   6082.000000      15.000100   \n",
       "\n",
       "       median_house_value  \n",
       "count        20640.000000  \n",
       "mean        206855.816909  \n",
       "std         115395.615874  \n",
       "min          14999.000000  \n",
       "25%         119600.000000  \n",
       "50%         179700.000000  \n",
       "75%         264725.000000  \n",
       "max         500001.000000  "
      ]
     },
     "execution_count": 12,
     "metadata": {},
     "output_type": "execute_result"
    }
   ],
   "source": [
    "df.describe()"
   ]
  },
  {
   "cell_type": "code",
   "execution_count": 17,
   "id": "129c56bd",
   "metadata": {},
   "outputs": [],
   "source": [
    "med_rent_index=df[\"median_house_value\"].median()"
   ]
  },
  {
   "cell_type": "code",
   "execution_count": 16,
   "id": "6982e66a",
   "metadata": {},
   "outputs": [
    {
     "data": {
      "text/plain": [
       "206855.81690891474"
      ]
     },
     "execution_count": 16,
     "metadata": {},
     "output_type": "execute_result"
    }
   ],
   "source": [
    "min_rent_index"
   ]
  },
  {
   "cell_type": "code",
   "execution_count": 18,
   "id": "2c61ce7e",
   "metadata": {},
   "outputs": [
    {
     "data": {
      "text/plain": [
       "179700.0"
      ]
     },
     "execution_count": 18,
     "metadata": {},
     "output_type": "execute_result"
    }
   ],
   "source": [
    "med_rent_index"
   ]
  },
  {
   "cell_type": "code",
   "execution_count": 21,
   "id": "ab34c77b",
   "metadata": {},
   "outputs": [
    {
     "data": {
      "text/plain": [
       "1425.4767441860465"
      ]
     },
     "execution_count": 21,
     "metadata": {},
     "output_type": "execute_result"
    }
   ],
   "source": [
    "df['population'].mean()"
   ]
  },
  {
   "cell_type": "code",
   "execution_count": 25,
   "id": "88a69a11",
   "metadata": {},
   "outputs": [],
   "source": [
    "# Find the index of the maximum value in the 'rent' column\n",
    "max_rent_index = df['median_income'].idxmax()\n"
   ]
  },
  {
   "cell_type": "code",
   "execution_count": 36,
   "id": "c43728d3",
   "metadata": {},
   "outputs": [
    {
     "data": {
      "text/plain": [
       "1566"
      ]
     },
     "execution_count": 36,
     "metadata": {},
     "output_type": "execute_result"
    }
   ],
   "source": [
    "max_rent_index"
   ]
  },
  {
   "cell_type": "code",
   "execution_count": 37,
   "id": "cf1fb1ac",
   "metadata": {},
   "outputs": [
    {
     "data": {
      "text/plain": [
       "longitude               -121.96\n",
       "latitude                  37.74\n",
       "housing_median_age          2.0\n",
       "total_rooms               200.0\n",
       "total_bedrooms             20.0\n",
       "population                 25.0\n",
       "households                  9.0\n",
       "median_income           15.0001\n",
       "median_house_value     350000.0\n",
       "ocean_proximity       <1H OCEAN\n",
       "Name: 1566, dtype: object"
      ]
     },
     "execution_count": 37,
     "metadata": {},
     "output_type": "execute_result"
    }
   ],
   "source": [
    "df.iloc[max_rent_index]"
   ]
  },
  {
   "cell_type": "code",
   "execution_count": 29,
   "id": "ef155b7d",
   "metadata": {},
   "outputs": [
    {
     "data": {
      "text/plain": [
       "array(['NEAR BAY', '<1H OCEAN', 'INLAND', 'NEAR OCEAN', 'ISLAND'],\n",
       "      dtype=object)"
      ]
     },
     "execution_count": 29,
     "metadata": {},
     "output_type": "execute_result"
    }
   ],
   "source": [
    "df['ocean_proximity'].unique()"
   ]
  },
  {
   "cell_type": "code",
   "execution_count": null,
   "id": "cc6fdead",
   "metadata": {},
   "outputs": [],
   "source": []
  },
  {
   "cell_type": "code",
   "execution_count": 27,
   "id": "0e99ee4e",
   "metadata": {},
   "outputs": [],
   "source": [
    "# Get the corresponding values in other columns for the row with maximum rent\n",
    "max_rent_house = df.loc[max_rent_index]"
   ]
  },
  {
   "cell_type": "code",
   "execution_count": 28,
   "id": "0c603713",
   "metadata": {},
   "outputs": [
    {
     "data": {
      "text/plain": [
       "longitude               -121.96\n",
       "latitude                  37.74\n",
       "housing_median_age          2.0\n",
       "total_rooms               200.0\n",
       "total_bedrooms             20.0\n",
       "population                 25.0\n",
       "households                  9.0\n",
       "median_income           15.0001\n",
       "median_house_value     350000.0\n",
       "ocean_proximity       <1H OCEAN\n",
       "Name: 1566, dtype: object"
      ]
     },
     "execution_count": 28,
     "metadata": {},
     "output_type": "execute_result"
    }
   ],
   "source": [
    "max_rent_house"
   ]
  },
  {
   "cell_type": "code",
   "execution_count": 33,
   "id": "10e95b4b",
   "metadata": {},
   "outputs": [],
   "source": [
    "max_sold_index = df['population'].idxmax()\n"
   ]
  },
  {
   "cell_type": "code",
   "execution_count": 34,
   "id": "90cea48a",
   "metadata": {},
   "outputs": [
    {
     "data": {
      "text/plain": [
       "15360"
      ]
     },
     "execution_count": 34,
     "metadata": {},
     "output_type": "execute_result"
    }
   ],
   "source": [
    "max_sold_index"
   ]
  },
  {
   "cell_type": "code",
   "execution_count": 38,
   "id": "ef3b0a56",
   "metadata": {},
   "outputs": [
    {
     "data": {
      "text/plain": [
       "0   -118.31\n",
       "dtype: float64"
      ]
     },
     "execution_count": 38,
     "metadata": {},
     "output_type": "execute_result"
    }
   ],
   "source": [
    "df['longitude'].mode()"
   ]
  },
  {
   "cell_type": "code",
   "execution_count": 39,
   "id": "aea160e4",
   "metadata": {},
   "outputs": [
    {
     "data": {
      "text/plain": [
       "0    34.06\n",
       "dtype: float64"
      ]
     },
     "execution_count": 39,
     "metadata": {},
     "output_type": "execute_result"
    }
   ],
   "source": [
    "df[\"latitude\"].mode()"
   ]
  },
  {
   "cell_type": "code",
   "execution_count": 40,
   "id": "b8f96f79",
   "metadata": {},
   "outputs": [
    {
     "data": {
      "text/plain": [
       "0    52.0\n",
       "dtype: float64"
      ]
     },
     "execution_count": 40,
     "metadata": {},
     "output_type": "execute_result"
    }
   ],
   "source": [
    "df['housing_median_age'].mode()"
   ]
  },
  {
   "cell_type": "code",
   "execution_count": 42,
   "id": "6aa51ffd",
   "metadata": {},
   "outputs": [
    {
     "data": {
      "text/plain": [
       "0    1527.0\n",
       "dtype: float64"
      ]
     },
     "execution_count": 42,
     "metadata": {},
     "output_type": "execute_result"
    }
   ],
   "source": [
    "df['total_rooms'].mode()"
   ]
  },
  {
   "cell_type": "code",
   "execution_count": 43,
   "id": "eb7c5f4f",
   "metadata": {},
   "outputs": [
    {
     "data": {
      "text/plain": [
       "0    891.0\n",
       "dtype: float64"
      ]
     },
     "execution_count": 43,
     "metadata": {},
     "output_type": "execute_result"
    }
   ],
   "source": [
    "df['population'].mode()"
   ]
  },
  {
   "cell_type": "code",
   "execution_count": 44,
   "id": "e1db5279",
   "metadata": {},
   "outputs": [
    {
     "data": {
      "text/plain": [
       "0    306.0\n",
       "dtype: float64"
      ]
     },
     "execution_count": 44,
     "metadata": {},
     "output_type": "execute_result"
    }
   ],
   "source": [
    "df['households'].mode()"
   ]
  },
  {
   "cell_type": "code",
   "execution_count": 45,
   "id": "3bf33068",
   "metadata": {},
   "outputs": [
    {
     "data": {
      "text/plain": [
       "0     3.1250\n",
       "1    15.0001\n",
       "dtype: float64"
      ]
     },
     "execution_count": 45,
     "metadata": {},
     "output_type": "execute_result"
    }
   ],
   "source": [
    "df['median_income'].mode()      "
   ]
  },
  {
   "cell_type": "code",
   "execution_count": 46,
   "id": "2379fe52",
   "metadata": {},
   "outputs": [
    {
     "data": {
      "text/plain": [
       "0    500001.0\n",
       "dtype: float64"
      ]
     },
     "execution_count": 46,
     "metadata": {},
     "output_type": "execute_result"
    }
   ],
   "source": [
    "df['median_house_value'].mode()"
   ]
  },
  {
   "cell_type": "code",
   "execution_count": 13,
   "id": "8c355cb7",
   "metadata": {},
   "outputs": [],
   "source": [
    "df=pd.read_csv(\"D:\\\\dataset\\\\survey_results_public.csv\",index_col=\"ResponseId\")"
   ]
  },
  {
   "cell_type": "code",
   "execution_count": 14,
   "id": "8f5c02fd",
   "metadata": {},
   "outputs": [
    {
     "data": {
      "text/html": [
       "<div>\n",
       "<style scoped>\n",
       "    .dataframe tbody tr th:only-of-type {\n",
       "        vertical-align: middle;\n",
       "    }\n",
       "\n",
       "    .dataframe tbody tr th {\n",
       "        vertical-align: top;\n",
       "    }\n",
       "\n",
       "    .dataframe thead th {\n",
       "        text-align: right;\n",
       "    }\n",
       "</style>\n",
       "<table border=\"1\" class=\"dataframe\">\n",
       "  <thead>\n",
       "    <tr style=\"text-align: right;\">\n",
       "      <th></th>\n",
       "      <th>Q120</th>\n",
       "      <th>MainBranch</th>\n",
       "      <th>Age</th>\n",
       "      <th>Employment</th>\n",
       "      <th>RemoteWork</th>\n",
       "      <th>CodingActivities</th>\n",
       "      <th>EdLevel</th>\n",
       "      <th>LearnCode</th>\n",
       "      <th>LearnCodeOnline</th>\n",
       "      <th>LearnCodeCoursesCert</th>\n",
       "      <th>...</th>\n",
       "      <th>Frequency_1</th>\n",
       "      <th>Frequency_2</th>\n",
       "      <th>Frequency_3</th>\n",
       "      <th>TimeSearching</th>\n",
       "      <th>TimeAnswering</th>\n",
       "      <th>ProfessionalTech</th>\n",
       "      <th>Industry</th>\n",
       "      <th>SurveyLength</th>\n",
       "      <th>SurveyEase</th>\n",
       "      <th>ConvertedCompYearly</th>\n",
       "    </tr>\n",
       "    <tr>\n",
       "      <th>ResponseId</th>\n",
       "      <th></th>\n",
       "      <th></th>\n",
       "      <th></th>\n",
       "      <th></th>\n",
       "      <th></th>\n",
       "      <th></th>\n",
       "      <th></th>\n",
       "      <th></th>\n",
       "      <th></th>\n",
       "      <th></th>\n",
       "      <th></th>\n",
       "      <th></th>\n",
       "      <th></th>\n",
       "      <th></th>\n",
       "      <th></th>\n",
       "      <th></th>\n",
       "      <th></th>\n",
       "      <th></th>\n",
       "      <th></th>\n",
       "      <th></th>\n",
       "      <th></th>\n",
       "    </tr>\n",
       "  </thead>\n",
       "  <tbody>\n",
       "    <tr>\n",
       "      <th>1</th>\n",
       "      <td>I agree</td>\n",
       "      <td>None of these</td>\n",
       "      <td>18-24 years old</td>\n",
       "      <td>NaN</td>\n",
       "      <td>NaN</td>\n",
       "      <td>NaN</td>\n",
       "      <td>NaN</td>\n",
       "      <td>NaN</td>\n",
       "      <td>NaN</td>\n",
       "      <td>NaN</td>\n",
       "      <td>...</td>\n",
       "      <td>NaN</td>\n",
       "      <td>NaN</td>\n",
       "      <td>NaN</td>\n",
       "      <td>NaN</td>\n",
       "      <td>NaN</td>\n",
       "      <td>NaN</td>\n",
       "      <td>NaN</td>\n",
       "      <td>NaN</td>\n",
       "      <td>NaN</td>\n",
       "      <td>NaN</td>\n",
       "    </tr>\n",
       "    <tr>\n",
       "      <th>2</th>\n",
       "      <td>I agree</td>\n",
       "      <td>I am a developer by profession</td>\n",
       "      <td>25-34 years old</td>\n",
       "      <td>Employed, full-time</td>\n",
       "      <td>Remote</td>\n",
       "      <td>Hobby;Contribute to open-source projects;Boots...</td>\n",
       "      <td>Bachelor’s degree (B.A., B.S., B.Eng., etc.)</td>\n",
       "      <td>Books / Physical media;Colleague;Friend or fam...</td>\n",
       "      <td>Formal documentation provided by the owner of ...</td>\n",
       "      <td>Other</td>\n",
       "      <td>...</td>\n",
       "      <td>1-2 times a week</td>\n",
       "      <td>10+ times a week</td>\n",
       "      <td>Never</td>\n",
       "      <td>15-30 minutes a day</td>\n",
       "      <td>15-30 minutes a day</td>\n",
       "      <td>DevOps function;Microservices;Automated testin...</td>\n",
       "      <td>Information Services, IT, Software Development...</td>\n",
       "      <td>Appropriate in length</td>\n",
       "      <td>Easy</td>\n",
       "      <td>285000.0</td>\n",
       "    </tr>\n",
       "    <tr>\n",
       "      <th>3</th>\n",
       "      <td>I agree</td>\n",
       "      <td>I am a developer by profession</td>\n",
       "      <td>45-54 years old</td>\n",
       "      <td>Employed, full-time</td>\n",
       "      <td>Hybrid (some remote, some in-person)</td>\n",
       "      <td>Hobby;Professional development or self-paced l...</td>\n",
       "      <td>Bachelor’s degree (B.A., B.S., B.Eng., etc.)</td>\n",
       "      <td>Books / Physical media;Colleague;On the job tr...</td>\n",
       "      <td>Formal documentation provided by the owner of ...</td>\n",
       "      <td>NaN</td>\n",
       "      <td>...</td>\n",
       "      <td>6-10 times a week</td>\n",
       "      <td>6-10 times a week</td>\n",
       "      <td>3-5 times a week</td>\n",
       "      <td>30-60 minutes a day</td>\n",
       "      <td>30-60 minutes a day</td>\n",
       "      <td>DevOps function;Microservices;Automated testin...</td>\n",
       "      <td>Information Services, IT, Software Development...</td>\n",
       "      <td>Appropriate in length</td>\n",
       "      <td>Easy</td>\n",
       "      <td>250000.0</td>\n",
       "    </tr>\n",
       "    <tr>\n",
       "      <th>4</th>\n",
       "      <td>I agree</td>\n",
       "      <td>I am a developer by profession</td>\n",
       "      <td>25-34 years old</td>\n",
       "      <td>Employed, full-time</td>\n",
       "      <td>Hybrid (some remote, some in-person)</td>\n",
       "      <td>Hobby</td>\n",
       "      <td>Bachelor’s degree (B.A., B.S., B.Eng., etc.)</td>\n",
       "      <td>Colleague;Friend or family member;Other online...</td>\n",
       "      <td>Formal documentation provided by the owner of ...</td>\n",
       "      <td>NaN</td>\n",
       "      <td>...</td>\n",
       "      <td>1-2 times a week</td>\n",
       "      <td>10+ times a week</td>\n",
       "      <td>1-2 times a week</td>\n",
       "      <td>15-30 minutes a day</td>\n",
       "      <td>30-60 minutes a day</td>\n",
       "      <td>Automated testing;Continuous integration (CI) ...</td>\n",
       "      <td>NaN</td>\n",
       "      <td>Appropriate in length</td>\n",
       "      <td>Easy</td>\n",
       "      <td>156000.0</td>\n",
       "    </tr>\n",
       "    <tr>\n",
       "      <th>5</th>\n",
       "      <td>I agree</td>\n",
       "      <td>I am a developer by profession</td>\n",
       "      <td>25-34 years old</td>\n",
       "      <td>Employed, full-time;Independent contractor, fr...</td>\n",
       "      <td>Remote</td>\n",
       "      <td>Hobby;Contribute to open-source projects;Profe...</td>\n",
       "      <td>Bachelor’s degree (B.A., B.S., B.Eng., etc.)</td>\n",
       "      <td>Books / Physical media;Online Courses or Certi...</td>\n",
       "      <td>Formal documentation provided by the owner of ...</td>\n",
       "      <td>Other;Codecademy;edX</td>\n",
       "      <td>...</td>\n",
       "      <td>1-2 times a week</td>\n",
       "      <td>1-2 times a week</td>\n",
       "      <td>3-5 times a week</td>\n",
       "      <td>60-120 minutes a day</td>\n",
       "      <td>30-60 minutes a day</td>\n",
       "      <td>Microservices;Automated testing;Observability ...</td>\n",
       "      <td>Other</td>\n",
       "      <td>Appropriate in length</td>\n",
       "      <td>Neither easy nor difficult</td>\n",
       "      <td>23456.0</td>\n",
       "    </tr>\n",
       "    <tr>\n",
       "      <th>...</th>\n",
       "      <td>...</td>\n",
       "      <td>...</td>\n",
       "      <td>...</td>\n",
       "      <td>...</td>\n",
       "      <td>...</td>\n",
       "      <td>...</td>\n",
       "      <td>...</td>\n",
       "      <td>...</td>\n",
       "      <td>...</td>\n",
       "      <td>...</td>\n",
       "      <td>...</td>\n",
       "      <td>...</td>\n",
       "      <td>...</td>\n",
       "      <td>...</td>\n",
       "      <td>...</td>\n",
       "      <td>...</td>\n",
       "      <td>...</td>\n",
       "      <td>...</td>\n",
       "      <td>...</td>\n",
       "      <td>...</td>\n",
       "      <td>...</td>\n",
       "    </tr>\n",
       "    <tr>\n",
       "      <th>89180</th>\n",
       "      <td>I agree</td>\n",
       "      <td>I am a developer by profession</td>\n",
       "      <td>25-34 years old</td>\n",
       "      <td>Employed, full-time;Independent contractor, fr...</td>\n",
       "      <td>Remote</td>\n",
       "      <td>Hobby;Bootstrapping a business;Freelance/contr...</td>\n",
       "      <td>Associate degree (A.A., A.S., etc.)</td>\n",
       "      <td>Online Courses or Certification;Other online r...</td>\n",
       "      <td>Formal documentation provided by the owner of ...</td>\n",
       "      <td>Udemy</td>\n",
       "      <td>...</td>\n",
       "      <td>NaN</td>\n",
       "      <td>NaN</td>\n",
       "      <td>NaN</td>\n",
       "      <td>NaN</td>\n",
       "      <td>NaN</td>\n",
       "      <td>NaN</td>\n",
       "      <td>NaN</td>\n",
       "      <td>Too long</td>\n",
       "      <td>Neither easy nor difficult</td>\n",
       "      <td>NaN</td>\n",
       "    </tr>\n",
       "    <tr>\n",
       "      <th>89181</th>\n",
       "      <td>I agree</td>\n",
       "      <td>I am a developer by profession</td>\n",
       "      <td>18-24 years old</td>\n",
       "      <td>Student, full-time;Employed, part-time</td>\n",
       "      <td>Hybrid (some remote, some in-person)</td>\n",
       "      <td>School or academic work</td>\n",
       "      <td>Bachelor’s degree (B.A., B.S., B.Eng., etc.)</td>\n",
       "      <td>Colleague;Online Courses or Certification;Othe...</td>\n",
       "      <td>Formal documentation provided by the owner of ...</td>\n",
       "      <td>NaN</td>\n",
       "      <td>...</td>\n",
       "      <td>NaN</td>\n",
       "      <td>NaN</td>\n",
       "      <td>NaN</td>\n",
       "      <td>NaN</td>\n",
       "      <td>NaN</td>\n",
       "      <td>NaN</td>\n",
       "      <td>NaN</td>\n",
       "      <td>Too long</td>\n",
       "      <td>Easy</td>\n",
       "      <td>NaN</td>\n",
       "    </tr>\n",
       "    <tr>\n",
       "      <th>89182</th>\n",
       "      <td>I agree</td>\n",
       "      <td>I code primarily as a hobby</td>\n",
       "      <td>Prefer not to say</td>\n",
       "      <td>I prefer not to say</td>\n",
       "      <td>NaN</td>\n",
       "      <td>NaN</td>\n",
       "      <td>Something else</td>\n",
       "      <td>Books / Physical media;Hackathons (virtual or ...</td>\n",
       "      <td>NaN</td>\n",
       "      <td>Codecademy;Coursera</td>\n",
       "      <td>...</td>\n",
       "      <td>NaN</td>\n",
       "      <td>NaN</td>\n",
       "      <td>NaN</td>\n",
       "      <td>NaN</td>\n",
       "      <td>NaN</td>\n",
       "      <td>NaN</td>\n",
       "      <td>NaN</td>\n",
       "      <td>Too long</td>\n",
       "      <td>Neither easy nor difficult</td>\n",
       "      <td>NaN</td>\n",
       "    </tr>\n",
       "    <tr>\n",
       "      <th>89183</th>\n",
       "      <td>I agree</td>\n",
       "      <td>I am a developer by profession</td>\n",
       "      <td>Under 18 years old</td>\n",
       "      <td>Employed, part-time;Student, part-time</td>\n",
       "      <td>Hybrid (some remote, some in-person)</td>\n",
       "      <td>Hobby;School or academic work</td>\n",
       "      <td>Secondary school (e.g. American high school, G...</td>\n",
       "      <td>Online Courses or Certification;Other online r...</td>\n",
       "      <td>Formal documentation provided by the owner of ...</td>\n",
       "      <td>Udemy</td>\n",
       "      <td>...</td>\n",
       "      <td>NaN</td>\n",
       "      <td>NaN</td>\n",
       "      <td>NaN</td>\n",
       "      <td>NaN</td>\n",
       "      <td>NaN</td>\n",
       "      <td>NaN</td>\n",
       "      <td>NaN</td>\n",
       "      <td>Appropriate in length</td>\n",
       "      <td>Neither easy nor difficult</td>\n",
       "      <td>NaN</td>\n",
       "    </tr>\n",
       "    <tr>\n",
       "      <th>89184</th>\n",
       "      <td>I agree</td>\n",
       "      <td>I am a developer by profession</td>\n",
       "      <td>35-44 years old</td>\n",
       "      <td>Employed, full-time</td>\n",
       "      <td>Hybrid (some remote, some in-person)</td>\n",
       "      <td>Hobby;Professional development or self-paced l...</td>\n",
       "      <td>Bachelor’s degree (B.A., B.S., B.Eng., etc.)</td>\n",
       "      <td>Colleague;Online Courses or Certification;Othe...</td>\n",
       "      <td>Formal documentation provided by the owner of ...</td>\n",
       "      <td>Codecademy;Pluralsight;Coursera</td>\n",
       "      <td>...</td>\n",
       "      <td>Never</td>\n",
       "      <td>1-2 times a week</td>\n",
       "      <td>1-2 times a week</td>\n",
       "      <td>60-120 minutes a day</td>\n",
       "      <td>30-60 minutes a day</td>\n",
       "      <td>DevOps function;Developer portal or other cent...</td>\n",
       "      <td>Information Services, IT, Software Development...</td>\n",
       "      <td>Appropriate in length</td>\n",
       "      <td>Easy</td>\n",
       "      <td>NaN</td>\n",
       "    </tr>\n",
       "  </tbody>\n",
       "</table>\n",
       "<p>89184 rows × 83 columns</p>\n",
       "</div>"
      ],
      "text/plain": [
       "               Q120                      MainBranch                 Age  \\\n",
       "ResponseId                                                                \n",
       "1           I agree                   None of these     18-24 years old   \n",
       "2           I agree  I am a developer by profession     25-34 years old   \n",
       "3           I agree  I am a developer by profession     45-54 years old   \n",
       "4           I agree  I am a developer by profession     25-34 years old   \n",
       "5           I agree  I am a developer by profession     25-34 years old   \n",
       "...             ...                             ...                 ...   \n",
       "89180       I agree  I am a developer by profession     25-34 years old   \n",
       "89181       I agree  I am a developer by profession     18-24 years old   \n",
       "89182       I agree     I code primarily as a hobby   Prefer not to say   \n",
       "89183       I agree  I am a developer by profession  Under 18 years old   \n",
       "89184       I agree  I am a developer by profession     35-44 years old   \n",
       "\n",
       "                                                   Employment  \\\n",
       "ResponseId                                                      \n",
       "1                                                         NaN   \n",
       "2                                         Employed, full-time   \n",
       "3                                         Employed, full-time   \n",
       "4                                         Employed, full-time   \n",
       "5           Employed, full-time;Independent contractor, fr...   \n",
       "...                                                       ...   \n",
       "89180       Employed, full-time;Independent contractor, fr...   \n",
       "89181                  Student, full-time;Employed, part-time   \n",
       "89182                                     I prefer not to say   \n",
       "89183                  Employed, part-time;Student, part-time   \n",
       "89184                                     Employed, full-time   \n",
       "\n",
       "                                      RemoteWork  \\\n",
       "ResponseId                                         \n",
       "1                                            NaN   \n",
       "2                                         Remote   \n",
       "3           Hybrid (some remote, some in-person)   \n",
       "4           Hybrid (some remote, some in-person)   \n",
       "5                                         Remote   \n",
       "...                                          ...   \n",
       "89180                                     Remote   \n",
       "89181       Hybrid (some remote, some in-person)   \n",
       "89182                                        NaN   \n",
       "89183       Hybrid (some remote, some in-person)   \n",
       "89184       Hybrid (some remote, some in-person)   \n",
       "\n",
       "                                             CodingActivities  \\\n",
       "ResponseId                                                      \n",
       "1                                                         NaN   \n",
       "2           Hobby;Contribute to open-source projects;Boots...   \n",
       "3           Hobby;Professional development or self-paced l...   \n",
       "4                                                       Hobby   \n",
       "5           Hobby;Contribute to open-source projects;Profe...   \n",
       "...                                                       ...   \n",
       "89180       Hobby;Bootstrapping a business;Freelance/contr...   \n",
       "89181                                 School or academic work   \n",
       "89182                                                     NaN   \n",
       "89183                           Hobby;School or academic work   \n",
       "89184       Hobby;Professional development or self-paced l...   \n",
       "\n",
       "                                                      EdLevel  \\\n",
       "ResponseId                                                      \n",
       "1                                                         NaN   \n",
       "2                Bachelor’s degree (B.A., B.S., B.Eng., etc.)   \n",
       "3                Bachelor’s degree (B.A., B.S., B.Eng., etc.)   \n",
       "4                Bachelor’s degree (B.A., B.S., B.Eng., etc.)   \n",
       "5                Bachelor’s degree (B.A., B.S., B.Eng., etc.)   \n",
       "...                                                       ...   \n",
       "89180                     Associate degree (A.A., A.S., etc.)   \n",
       "89181            Bachelor’s degree (B.A., B.S., B.Eng., etc.)   \n",
       "89182                                          Something else   \n",
       "89183       Secondary school (e.g. American high school, G...   \n",
       "89184            Bachelor’s degree (B.A., B.S., B.Eng., etc.)   \n",
       "\n",
       "                                                    LearnCode  \\\n",
       "ResponseId                                                      \n",
       "1                                                         NaN   \n",
       "2           Books / Physical media;Colleague;Friend or fam...   \n",
       "3           Books / Physical media;Colleague;On the job tr...   \n",
       "4           Colleague;Friend or family member;Other online...   \n",
       "5           Books / Physical media;Online Courses or Certi...   \n",
       "...                                                       ...   \n",
       "89180       Online Courses or Certification;Other online r...   \n",
       "89181       Colleague;Online Courses or Certification;Othe...   \n",
       "89182       Books / Physical media;Hackathons (virtual or ...   \n",
       "89183       Online Courses or Certification;Other online r...   \n",
       "89184       Colleague;Online Courses or Certification;Othe...   \n",
       "\n",
       "                                              LearnCodeOnline  \\\n",
       "ResponseId                                                      \n",
       "1                                                         NaN   \n",
       "2           Formal documentation provided by the owner of ...   \n",
       "3           Formal documentation provided by the owner of ...   \n",
       "4           Formal documentation provided by the owner of ...   \n",
       "5           Formal documentation provided by the owner of ...   \n",
       "...                                                       ...   \n",
       "89180       Formal documentation provided by the owner of ...   \n",
       "89181       Formal documentation provided by the owner of ...   \n",
       "89182                                                     NaN   \n",
       "89183       Formal documentation provided by the owner of ...   \n",
       "89184       Formal documentation provided by the owner of ...   \n",
       "\n",
       "                       LearnCodeCoursesCert  ...        Frequency_1  \\\n",
       "ResponseId                                   ...                      \n",
       "1                                       NaN  ...                NaN   \n",
       "2                                     Other  ...   1-2 times a week   \n",
       "3                                       NaN  ...  6-10 times a week   \n",
       "4                                       NaN  ...   1-2 times a week   \n",
       "5                      Other;Codecademy;edX  ...   1-2 times a week   \n",
       "...                                     ...  ...                ...   \n",
       "89180                                 Udemy  ...                NaN   \n",
       "89181                                   NaN  ...                NaN   \n",
       "89182                   Codecademy;Coursera  ...                NaN   \n",
       "89183                                 Udemy  ...                NaN   \n",
       "89184       Codecademy;Pluralsight;Coursera  ...              Never   \n",
       "\n",
       "                  Frequency_2       Frequency_3         TimeSearching  \\\n",
       "ResponseId                                                              \n",
       "1                         NaN               NaN                   NaN   \n",
       "2            10+ times a week             Never   15-30 minutes a day   \n",
       "3           6-10 times a week  3-5 times a week   30-60 minutes a day   \n",
       "4            10+ times a week  1-2 times a week   15-30 minutes a day   \n",
       "5            1-2 times a week  3-5 times a week  60-120 minutes a day   \n",
       "...                       ...               ...                   ...   \n",
       "89180                     NaN               NaN                   NaN   \n",
       "89181                     NaN               NaN                   NaN   \n",
       "89182                     NaN               NaN                   NaN   \n",
       "89183                     NaN               NaN                   NaN   \n",
       "89184        1-2 times a week  1-2 times a week  60-120 minutes a day   \n",
       "\n",
       "                  TimeAnswering  \\\n",
       "ResponseId                        \n",
       "1                           NaN   \n",
       "2           15-30 minutes a day   \n",
       "3           30-60 minutes a day   \n",
       "4           30-60 minutes a day   \n",
       "5           30-60 minutes a day   \n",
       "...                         ...   \n",
       "89180                       NaN   \n",
       "89181                       NaN   \n",
       "89182                       NaN   \n",
       "89183                       NaN   \n",
       "89184       30-60 minutes a day   \n",
       "\n",
       "                                             ProfessionalTech  \\\n",
       "ResponseId                                                      \n",
       "1                                                         NaN   \n",
       "2           DevOps function;Microservices;Automated testin...   \n",
       "3           DevOps function;Microservices;Automated testin...   \n",
       "4           Automated testing;Continuous integration (CI) ...   \n",
       "5           Microservices;Automated testing;Observability ...   \n",
       "...                                                       ...   \n",
       "89180                                                     NaN   \n",
       "89181                                                     NaN   \n",
       "89182                                                     NaN   \n",
       "89183                                                     NaN   \n",
       "89184       DevOps function;Developer portal or other cent...   \n",
       "\n",
       "                                                     Industry  \\\n",
       "ResponseId                                                      \n",
       "1                                                         NaN   \n",
       "2           Information Services, IT, Software Development...   \n",
       "3           Information Services, IT, Software Development...   \n",
       "4                                                         NaN   \n",
       "5                                                       Other   \n",
       "...                                                       ...   \n",
       "89180                                                     NaN   \n",
       "89181                                                     NaN   \n",
       "89182                                                     NaN   \n",
       "89183                                                     NaN   \n",
       "89184       Information Services, IT, Software Development...   \n",
       "\n",
       "                     SurveyLength                  SurveyEase  \\\n",
       "ResponseId                                                      \n",
       "1                             NaN                         NaN   \n",
       "2           Appropriate in length                        Easy   \n",
       "3           Appropriate in length                        Easy   \n",
       "4           Appropriate in length                        Easy   \n",
       "5           Appropriate in length  Neither easy nor difficult   \n",
       "...                           ...                         ...   \n",
       "89180                    Too long  Neither easy nor difficult   \n",
       "89181                    Too long                        Easy   \n",
       "89182                    Too long  Neither easy nor difficult   \n",
       "89183       Appropriate in length  Neither easy nor difficult   \n",
       "89184       Appropriate in length                        Easy   \n",
       "\n",
       "            ConvertedCompYearly  \n",
       "ResponseId                       \n",
       "1                           NaN  \n",
       "2                      285000.0  \n",
       "3                      250000.0  \n",
       "4                      156000.0  \n",
       "5                       23456.0  \n",
       "...                         ...  \n",
       "89180                       NaN  \n",
       "89181                       NaN  \n",
       "89182                       NaN  \n",
       "89183                       NaN  \n",
       "89184                       NaN  \n",
       "\n",
       "[89184 rows x 83 columns]"
      ]
     },
     "execution_count": 14,
     "metadata": {},
     "output_type": "execute_result"
    }
   ],
   "source": [
    "df"
   ]
  },
  {
   "cell_type": "code",
   "execution_count": 15,
   "id": "88642335",
   "metadata": {},
   "outputs": [
    {
     "data": {
      "text/plain": [
       "Q120                       0\n",
       "MainBranch                 0\n",
       "Age                        0\n",
       "Employment              1286\n",
       "RemoteWork             15374\n",
       "                       ...  \n",
       "ProfessionalTech       47401\n",
       "Industry               52410\n",
       "SurveyLength            2699\n",
       "SurveyEase              2630\n",
       "ConvertedCompYearly    41165\n",
       "Length: 83, dtype: int64"
      ]
     },
     "execution_count": 15,
     "metadata": {},
     "output_type": "execute_result"
    }
   ],
   "source": [
    "df.isnull().sum()"
   ]
  },
  {
   "cell_type": "code",
   "execution_count": 24,
   "id": "6fa6a5ac",
   "metadata": {},
   "outputs": [],
   "source": [
    "df['ConvertedCompYearly'].fillna(df['ConvertedCompYearly' ].median(),inplace=True)"
   ]
  },
  {
   "cell_type": "code",
   "execution_count": 26,
   "id": "6502e2ba",
   "metadata": {},
   "outputs": [
    {
     "data": {
      "text/plain": [
       "74963.0"
      ]
     },
     "execution_count": 26,
     "metadata": {},
     "output_type": "execute_result"
    }
   ],
   "source": [
    "df['ConvertedCompYearly'].median()\n"
   ]
  },
  {
   "cell_type": "code",
   "execution_count": 27,
   "id": "6bd49b13",
   "metadata": {},
   "outputs": [],
   "source": [
    "df['ConvertedCompYearly'].fillna(df['ConvertedCompYearly' ].mode()[0],inplace=True)"
   ]
  },
  {
   "cell_type": "code",
   "execution_count": 28,
   "id": "22232514",
   "metadata": {},
   "outputs": [
    {
     "data": {
      "text/plain": [
       "0    74963.0\n",
       "dtype: float64"
      ]
     },
     "execution_count": 28,
     "metadata": {},
     "output_type": "execute_result"
    }
   ],
   "source": [
    "df['ConvertedCompYearly'].mode()"
   ]
  },
  {
   "cell_type": "code",
   "execution_count": 39,
   "id": "0af965b7",
   "metadata": {
    "scrolled": true
   },
   "outputs": [
    {
     "data": {
      "text/plain": [
       "Q120                       0\n",
       "MainBranch                 0\n",
       "Age                        0\n",
       "Employment             89184\n",
       "RemoteWork             15374\n",
       "                       ...  \n",
       "ProfessionalTech       47401\n",
       "Industry               52410\n",
       "SurveyLength            2699\n",
       "SurveyEase              2630\n",
       "ConvertedCompYearly        0\n",
       "Length: 83, dtype: int64"
      ]
     },
     "execution_count": 39,
     "metadata": {},
     "output_type": "execute_result"
    }
   ],
   "source": [
    "df.isnull().sum()"
   ]
  },
  {
   "cell_type": "markdown",
   "id": "d7410726",
   "metadata": {},
   "source": [
    "In a retail store the sales of a product have been recorded over a year determin the average monthly sales the month with the higest sales,and the median sales to understand the overall performance "
   ]
  },
  {
   "cell_type": "code",
   "execution_count": 1,
   "id": "b13b089f",
   "metadata": {},
   "outputs": [],
   "source": [
    "import pandas as pd\n",
    "import numpy as np\n",
    "\n",
    "# Monthly sales data\n",
    "monthly_sales = [1200, 1500, 1800, 900, 2000, 2500, 3000, 1200, 1800, 2200, 2500, 2800]"
   ]
  },
  {
   "cell_type": "code",
   "execution_count": 2,
   "id": "4c7862e5",
   "metadata": {},
   "outputs": [],
   "source": [
    "#  sales data\n",
    "df = pd.DataFrame({'Month': range(1, 13), 'Sales': monthly_sales})"
   ]
  },
  {
   "cell_type": "code",
   "execution_count": 49,
   "id": "8519cbc3",
   "metadata": {},
   "outputs": [
    {
     "data": {
      "text/html": [
       "<div>\n",
       "<style scoped>\n",
       "    .dataframe tbody tr th:only-of-type {\n",
       "        vertical-align: middle;\n",
       "    }\n",
       "\n",
       "    .dataframe tbody tr th {\n",
       "        vertical-align: top;\n",
       "    }\n",
       "\n",
       "    .dataframe thead th {\n",
       "        text-align: right;\n",
       "    }\n",
       "</style>\n",
       "<table border=\"1\" class=\"dataframe\">\n",
       "  <thead>\n",
       "    <tr style=\"text-align: right;\">\n",
       "      <th></th>\n",
       "      <th>Month</th>\n",
       "      <th>Sales</th>\n",
       "    </tr>\n",
       "  </thead>\n",
       "  <tbody>\n",
       "    <tr>\n",
       "      <th>0</th>\n",
       "      <td>1</td>\n",
       "      <td>1200</td>\n",
       "    </tr>\n",
       "    <tr>\n",
       "      <th>1</th>\n",
       "      <td>2</td>\n",
       "      <td>1500</td>\n",
       "    </tr>\n",
       "    <tr>\n",
       "      <th>2</th>\n",
       "      <td>3</td>\n",
       "      <td>1800</td>\n",
       "    </tr>\n",
       "    <tr>\n",
       "      <th>3</th>\n",
       "      <td>4</td>\n",
       "      <td>900</td>\n",
       "    </tr>\n",
       "    <tr>\n",
       "      <th>4</th>\n",
       "      <td>5</td>\n",
       "      <td>2000</td>\n",
       "    </tr>\n",
       "    <tr>\n",
       "      <th>5</th>\n",
       "      <td>6</td>\n",
       "      <td>2500</td>\n",
       "    </tr>\n",
       "    <tr>\n",
       "      <th>6</th>\n",
       "      <td>7</td>\n",
       "      <td>3000</td>\n",
       "    </tr>\n",
       "    <tr>\n",
       "      <th>7</th>\n",
       "      <td>8</td>\n",
       "      <td>1200</td>\n",
       "    </tr>\n",
       "    <tr>\n",
       "      <th>8</th>\n",
       "      <td>9</td>\n",
       "      <td>1800</td>\n",
       "    </tr>\n",
       "    <tr>\n",
       "      <th>9</th>\n",
       "      <td>10</td>\n",
       "      <td>2200</td>\n",
       "    </tr>\n",
       "    <tr>\n",
       "      <th>10</th>\n",
       "      <td>11</td>\n",
       "      <td>2500</td>\n",
       "    </tr>\n",
       "    <tr>\n",
       "      <th>11</th>\n",
       "      <td>12</td>\n",
       "      <td>2800</td>\n",
       "    </tr>\n",
       "  </tbody>\n",
       "</table>\n",
       "</div>"
      ],
      "text/plain": [
       "    Month  Sales\n",
       "0       1   1200\n",
       "1       2   1500\n",
       "2       3   1800\n",
       "3       4    900\n",
       "4       5   2000\n",
       "5       6   2500\n",
       "6       7   3000\n",
       "7       8   1200\n",
       "8       9   1800\n",
       "9      10   2200\n",
       "10     11   2500\n",
       "11     12   2800"
      ]
     },
     "execution_count": 49,
     "metadata": {},
     "output_type": "execute_result"
    }
   ],
   "source": [
    "df"
   ]
  },
  {
   "cell_type": "code",
   "execution_count": 50,
   "id": "74aea806",
   "metadata": {},
   "outputs": [],
   "source": [
    "# Calculate average monthly sales\n",
    "average_monthly_sales = df['Sales'].mean()"
   ]
  },
  {
   "cell_type": "code",
   "execution_count": 51,
   "id": "188ed23a",
   "metadata": {},
   "outputs": [
    {
     "data": {
      "text/plain": [
       "1950.0"
      ]
     },
     "execution_count": 51,
     "metadata": {},
     "output_type": "execute_result"
    }
   ],
   "source": [
    "average_monthly_sales"
   ]
  },
  {
   "cell_type": "code",
   "execution_count": 52,
   "id": "65b4386b",
   "metadata": {},
   "outputs": [],
   "source": [
    "# Find the month with the highest sales\n",
    "highest_sales_month = df.loc[df['Sales'].idxmax(), 'Month']"
   ]
  },
  {
   "cell_type": "code",
   "execution_count": 53,
   "id": "8afa2c10",
   "metadata": {},
   "outputs": [
    {
     "data": {
      "text/plain": [
       "7"
      ]
     },
     "execution_count": 53,
     "metadata": {},
     "output_type": "execute_result"
    }
   ],
   "source": [
    "highest_sales_month"
   ]
  },
  {
   "cell_type": "code",
   "execution_count": 55,
   "id": "af25e4be",
   "metadata": {},
   "outputs": [],
   "source": [
    "max_sales_index = (df['Sales'].mode()[0])\n"
   ]
  },
  {
   "cell_type": "code",
   "execution_count": 56,
   "id": "d64359bb",
   "metadata": {},
   "outputs": [
    {
     "data": {
      "text/plain": [
       "1200"
      ]
     },
     "execution_count": 56,
     "metadata": {},
     "output_type": "execute_result"
    }
   ],
   "source": [
    "max_sales_index"
   ]
  },
  {
   "cell_type": "code",
   "execution_count": 57,
   "id": "ca312d83",
   "metadata": {},
   "outputs": [],
   "source": [
    "max_sales_index = df['Sales'].median()\n"
   ]
  },
  {
   "cell_type": "code",
   "execution_count": 58,
   "id": "f6048c4a",
   "metadata": {},
   "outputs": [
    {
     "data": {
      "text/plain": [
       "1900.0"
      ]
     },
     "execution_count": 58,
     "metadata": {},
     "output_type": "execute_result"
    }
   ],
   "source": [
    "max_sales_index"
   ]
  },
  {
   "cell_type": "markdown",
   "id": "b12efacc",
   "metadata": {},
   "source": [
    "analyse the performance of student in a class based on their test score compute the class average score the most common score and the median score to understand the overall perfprmance and identify the common weakness"
   ]
  },
  {
   "cell_type": "code",
   "execution_count": 8,
   "id": "b918dc8e",
   "metadata": {},
   "outputs": [],
   "source": [
    "data = {\n",
    "    'StudentID': ['Ash', 'Rida','Suha','Nia','Anu'],\n",
    "    'Math_Score': [85, 90, 92, 78, 90],\n",
    "    'English_Score': [88, 82, 90, 85, 95],\n",
    "    'Science_Score': [92, 95, 88, 78, 85],\n",
    "    'History_Score': [75, 80, 85, 70, 78],\n",
    "    'Programming_Score': [90, 88, 92, 85, 78],\n",
    "    'Art_Score': [80, 85, 88, 75, 92]\n",
    "}\n",
    "\n",
    "s = pd.DataFrame(data)"
   ]
  },
  {
   "cell_type": "code",
   "execution_count": 9,
   "id": "bc3c2ac8",
   "metadata": {},
   "outputs": [
    {
     "data": {
      "text/html": [
       "<div>\n",
       "<style scoped>\n",
       "    .dataframe tbody tr th:only-of-type {\n",
       "        vertical-align: middle;\n",
       "    }\n",
       "\n",
       "    .dataframe tbody tr th {\n",
       "        vertical-align: top;\n",
       "    }\n",
       "\n",
       "    .dataframe thead th {\n",
       "        text-align: right;\n",
       "    }\n",
       "</style>\n",
       "<table border=\"1\" class=\"dataframe\">\n",
       "  <thead>\n",
       "    <tr style=\"text-align: right;\">\n",
       "      <th></th>\n",
       "      <th>StudentID</th>\n",
       "      <th>Math_Score</th>\n",
       "      <th>English_Score</th>\n",
       "      <th>Science_Score</th>\n",
       "      <th>History_Score</th>\n",
       "      <th>Programming_Score</th>\n",
       "      <th>Art_Score</th>\n",
       "    </tr>\n",
       "  </thead>\n",
       "  <tbody>\n",
       "    <tr>\n",
       "      <th>0</th>\n",
       "      <td>Ash</td>\n",
       "      <td>85</td>\n",
       "      <td>88</td>\n",
       "      <td>92</td>\n",
       "      <td>75</td>\n",
       "      <td>90</td>\n",
       "      <td>80</td>\n",
       "    </tr>\n",
       "    <tr>\n",
       "      <th>1</th>\n",
       "      <td>Rida</td>\n",
       "      <td>90</td>\n",
       "      <td>82</td>\n",
       "      <td>95</td>\n",
       "      <td>80</td>\n",
       "      <td>88</td>\n",
       "      <td>85</td>\n",
       "    </tr>\n",
       "    <tr>\n",
       "      <th>2</th>\n",
       "      <td>Suha</td>\n",
       "      <td>92</td>\n",
       "      <td>90</td>\n",
       "      <td>88</td>\n",
       "      <td>85</td>\n",
       "      <td>92</td>\n",
       "      <td>88</td>\n",
       "    </tr>\n",
       "    <tr>\n",
       "      <th>3</th>\n",
       "      <td>Nia</td>\n",
       "      <td>78</td>\n",
       "      <td>85</td>\n",
       "      <td>78</td>\n",
       "      <td>70</td>\n",
       "      <td>85</td>\n",
       "      <td>75</td>\n",
       "    </tr>\n",
       "    <tr>\n",
       "      <th>4</th>\n",
       "      <td>Anu</td>\n",
       "      <td>90</td>\n",
       "      <td>95</td>\n",
       "      <td>85</td>\n",
       "      <td>78</td>\n",
       "      <td>78</td>\n",
       "      <td>92</td>\n",
       "    </tr>\n",
       "  </tbody>\n",
       "</table>\n",
       "</div>"
      ],
      "text/plain": [
       "  StudentID  Math_Score  English_Score  Science_Score  History_Score  \\\n",
       "0       Ash          85             88             92             75   \n",
       "1      Rida          90             82             95             80   \n",
       "2      Suha          92             90             88             85   \n",
       "3       Nia          78             85             78             70   \n",
       "4       Anu          90             95             85             78   \n",
       "\n",
       "   Programming_Score  Art_Score  \n",
       "0                 90         80  \n",
       "1                 88         85  \n",
       "2                 92         88  \n",
       "3                 85         75  \n",
       "4                 78         92  "
      ]
     },
     "execution_count": 9,
     "metadata": {},
     "output_type": "execute_result"
    }
   ],
   "source": [
    "s"
   ]
  },
  {
   "cell_type": "code",
   "execution_count": 38,
   "id": "15bbba60",
   "metadata": {},
   "outputs": [],
   "source": [
    "class_average = s.iloc[:, 1:].mean() \n",
    " #class average"
   ]
  },
  {
   "cell_type": "code",
   "execution_count": 39,
   "id": "3f7c1a40",
   "metadata": {},
   "outputs": [
    {
     "data": {
      "text/plain": [
       "Math_Score           87.0\n",
       "English_Score        88.0\n",
       "Science_Score        87.6\n",
       "History_Score        77.6\n",
       "Programming_Score    86.6\n",
       "Art_Score            84.0\n",
       "dtype: float64"
      ]
     },
     "execution_count": 39,
     "metadata": {},
     "output_type": "execute_result"
    }
   ],
   "source": [
    "class_average"
   ]
  },
  {
   "cell_type": "code",
   "execution_count": 77,
   "id": "325847c3",
   "metadata": {},
   "outputs": [
    {
     "data": {
      "text/plain": [
       "StudentID             Anu\n",
       "Math_Score           90.0\n",
       "English_Score          82\n",
       "Science_Score          78\n",
       "History_Score          70\n",
       "Programming_Score      78\n",
       "Art_Score              75\n",
       "Name: 0, dtype: object"
      ]
     },
     "execution_count": 77,
     "metadata": {},
     "output_type": "execute_result"
    }
   ],
   "source": [
    "most_common_score"
   ]
  },
  {
   "cell_type": "code",
   "execution_count": 10,
   "id": "89a4fdc1",
   "metadata": {},
   "outputs": [],
   "source": [
    "median_score = s.median()"
   ]
  },
  {
   "cell_type": "code",
   "execution_count": 11,
   "id": "6d295f69",
   "metadata": {},
   "outputs": [
    {
     "data": {
      "text/plain": [
       "Math_Score           90.0\n",
       "English_Score        88.0\n",
       "Science_Score        88.0\n",
       "History_Score        78.0\n",
       "Programming_Score    88.0\n",
       "Art_Score            85.0\n",
       "dtype: float64"
      ]
     },
     "execution_count": 11,
     "metadata": {},
     "output_type": "execute_result"
    }
   ],
   "source": [
    "median_score"
   ]
  },
  {
   "cell_type": "code",
   "execution_count": 84,
   "id": "a883a157",
   "metadata": {},
   "outputs": [
    {
     "data": {
      "text/plain": [
       "78.0"
      ]
     },
     "execution_count": 84,
     "metadata": {},
     "output_type": "execute_result"
    }
   ],
   "source": [
    "median_score.min()#weaker area is histroy"
   ]
  },
  {
   "cell_type": "code",
   "execution_count": 13,
   "id": "7674eeab",
   "metadata": {},
   "outputs": [
    {
     "data": {
      "text/plain": [
       "'Suha'"
      ]
     },
     "execution_count": 13,
     "metadata": {},
     "output_type": "execute_result"
    }
   ],
   "source": [
    "s['StudentID'].max()#bright student"
   ]
  },
  {
   "cell_type": "code",
   "execution_count": 14,
   "id": "ef63cc27",
   "metadata": {},
   "outputs": [
    {
     "data": {
      "text/plain": [
       "'Anu'"
      ]
     },
     "execution_count": 14,
     "metadata": {},
     "output_type": "execute_result"
    }
   ],
   "source": [
    "s['StudentID'].min()"
   ]
  },
  {
   "cell_type": "code",
   "execution_count": 16,
   "id": "c21fd705",
   "metadata": {},
   "outputs": [],
   "source": [
    "max_score = s.max()"
   ]
  },
  {
   "cell_type": "code",
   "execution_count": 17,
   "id": "c7ae51f8",
   "metadata": {},
   "outputs": [
    {
     "data": {
      "text/plain": [
       "StudentID            Suha\n",
       "Math_Score             92\n",
       "English_Score          95\n",
       "Science_Score          95\n",
       "History_Score          85\n",
       "Programming_Score      92\n",
       "Art_Score              92\n",
       "dtype: object"
      ]
     },
     "execution_count": 17,
     "metadata": {},
     "output_type": "execute_result"
    }
   ],
   "source": [
    "max_score"
   ]
  },
  {
   "cell_type": "code",
   "execution_count": 18,
   "id": "252e05fa",
   "metadata": {},
   "outputs": [],
   "source": [
    "highest_scores = s.iloc[:, 1:].max()"
   ]
  },
  {
   "cell_type": "code",
   "execution_count": 19,
   "id": "925e572a",
   "metadata": {},
   "outputs": [
    {
     "data": {
      "text/plain": [
       "Math_Score           92\n",
       "English_Score        95\n",
       "Science_Score        95\n",
       "History_Score        85\n",
       "Programming_Score    92\n",
       "Art_Score            92\n",
       "dtype: int64"
      ]
     },
     "execution_count": 19,
     "metadata": {},
     "output_type": "execute_result"
    }
   ],
   "source": [
    "highest_scores"
   ]
  },
  {
   "cell_type": "code",
   "execution_count": 40,
   "id": "752e288f",
   "metadata": {},
   "outputs": [],
   "source": [
    "class_average = s.iloc[:, 1:].mean()"
   ]
  },
  {
   "cell_type": "code",
   "execution_count": 41,
   "id": "6d8a9937",
   "metadata": {},
   "outputs": [
    {
     "data": {
      "text/plain": [
       "Math_Score           87.0\n",
       "English_Score        88.0\n",
       "Science_Score        87.6\n",
       "History_Score        77.6\n",
       "Programming_Score    86.6\n",
       "Art_Score            84.0\n",
       "dtype: float64"
      ]
     },
     "execution_count": 41,
     "metadata": {},
     "output_type": "execute_result"
    }
   ],
   "source": [
    "class_average"
   ]
  },
  {
   "cell_type": "code",
   "execution_count": null,
   "id": "7e2bad12",
   "metadata": {},
   "outputs": [],
   "source": []
  },
  {
   "cell_type": "code",
   "execution_count": null,
   "id": "61da68ed",
   "metadata": {},
   "outputs": [],
   "source": []
  }
 ],
 "metadata": {
  "kernelspec": {
   "display_name": "Python 3",
   "language": "python",
   "name": "python3"
  },
  "language_info": {
   "codemirror_mode": {
    "name": "ipython",
    "version": 3
   },
   "file_extension": ".py",
   "mimetype": "text/x-python",
   "name": "python",
   "nbconvert_exporter": "python",
   "pygments_lexer": "ipython3",
   "version": "3.8.8"
  }
 },
 "nbformat": 4,
 "nbformat_minor": 5
}
